{
  "nbformat": 4,
  "nbformat_minor": 0,
  "metadata": {
    "colab": {
      "provenance": []
    },
    "kernelspec": {
      "name": "python3",
      "display_name": "Python 3"
    },
    "language_info": {
      "name": "python"
    }
  },
  "cells": [
    {
      "cell_type": "markdown",
      "source": [
        "##convert labels and make dirs"
      ],
      "metadata": {
        "id": "igW_EplNQeI-"
      }
    },
    {
      "cell_type": "code",
      "execution_count": null,
      "metadata": {
        "id": "mA06XO1EQL_o"
      },
      "outputs": [],
      "source": [
        "path = '/drive/car_img/'\n",
        "XMLtoYOLO(path)"
      ]
    },
    {
      "cell_type": "markdown",
      "source": [
        "##plot .txt files"
      ],
      "metadata": {
        "id": "NQ37QAE6QiGp"
      }
    },
    {
      "cell_type": "code",
      "source": [
        "annotation_file = '/train/labels/day_00001.txt'\n",
        "img_file = '/images/day_00001.jpg'\n",
        "with open(annotation_file, \"r\") as file:\n",
        "    annotation_list = file.read().split(\"\\n\")[:-1]\n",
        "    annotation_list = [x.split(\" \") for x in annotation_list]\n",
        "    annotation_list = [[float(y) for y in x ] for x in annotation_list]\n",
        "\n",
        "image = Image.open(img_file)\n",
        "\n",
        "#Plot the Bounding Box\n",
        "plot_bounding_box(image, annotation_list)"
      ],
      "metadata": {
        "id": "ALGtBkU5QjvO"
      },
      "execution_count": null,
      "outputs": []
    }
  ]
}